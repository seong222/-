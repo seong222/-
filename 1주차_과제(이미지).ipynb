{
  "nbformat": 4,
  "nbformat_minor": 0,
  "metadata": {
    "colab": {
      "name": "1주차 과제(이미지).ipynb",
      "provenance": [],
      "authorship_tag": "ABX9TyMEToXkka8NH6fRILIgm2Ti",
      "include_colab_link": true
    },
    "kernelspec": {
      "name": "python3",
      "display_name": "Python 3"
    }
  },
  "cells": [
    {
      "cell_type": "markdown",
      "metadata": {
        "id": "view-in-github",
        "colab_type": "text"
      },
      "source": [
        "<a href=\"https://colab.research.google.com/github/seong222/-/blob/master/1%EC%A3%BC%EC%B0%A8_%EA%B3%BC%EC%A0%9C(%EC%9D%B4%EB%AF%B8%EC%A7%80).ipynb\" target=\"_parent\"><img src=\"https://colab.research.google.com/assets/colab-badge.svg\" alt=\"Open In Colab\"/></a>"
      ]
    },
    {
      "cell_type": "markdown",
      "metadata": {
        "id": "DuRVEzX3IC5n",
        "colab_type": "text"
      },
      "source": [
        "1주차 과제 이미지"
      ]
    }
  ]
}