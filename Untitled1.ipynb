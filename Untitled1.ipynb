{
  "nbformat": 4,
  "nbformat_minor": 0,
  "metadata": {
    "colab": {
      "name": "Untitled1.ipynb",
      "provenance": [],
      "authorship_tag": "ABX9TyNCi7UwMF+KXh6xRA8Z/Xb8",
      "include_colab_link": true
    },
    "kernelspec": {
      "name": "python3",
      "display_name": "Python 3"
    }
  },
  "cells": [
    {
      "cell_type": "markdown",
      "metadata": {
        "id": "view-in-github",
        "colab_type": "text"
      },
      "source": [
        "<a href=\"https://colab.research.google.com/github/seong222/-/blob/master/Untitled1.ipynb\" target=\"_parent\"><img src=\"https://colab.research.google.com/assets/colab-badge.svg\" alt=\"Open In Colab\"/></a>"
      ]
    },
    {
      "cell_type": "markdown",
      "metadata": {
        "id": "l9nXHGc4F_ay",
        "colab_type": "text"
      },
      "source": [
        "#인공지능 사관학교 프리코스 과제 목차\n",
        "1주차 과제 (2020. 05. 28)\n",
        "\n",
        "\n",
        "*   인공지능 사례분석\n",
        "\n",
        "2주차 과제 (2020. 06. 02)\n",
        "\n",
        "\n",
        "*   파이썬과 인공지능 기초수학\n"
      ]
    }
  ]
}